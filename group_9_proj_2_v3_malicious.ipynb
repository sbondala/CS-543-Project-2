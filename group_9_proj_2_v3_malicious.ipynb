{
 "cells": [
  {
   "cell_type": "code",
   "execution_count": 1,
   "id": "fd58f41c",
   "metadata": {},
   "outputs": [],
   "source": [
    "import tensorflow as tf\n",
    "from tensorflow import keras\n",
    "import os\n",
    "from tensorflow.keras import layers\n",
    "import pandas as pd\n",
    "import numpy as np\n",
    "import matplotlib.pyplot as plt\n",
    "import sklearn\n",
    "from sklearn.metrics import confusion_matrix\n",
    "from sklearn.model_selection import train_test_split\n",
    "from sklearn.preprocessing import StandardScaler\n",
    "from sklearn.metrics import classification_report\n",
    "import seaborn as sns"
   ]
  },
  {
   "cell_type": "code",
   "execution_count": 2,
   "id": "a0fb6b8c",
   "metadata": {},
   "outputs": [
    {
     "data": {
      "text/plain": [
       "[PhysicalDevice(name='/physical_device:GPU:0', device_type='GPU')]"
      ]
     },
     "execution_count": 2,
     "metadata": {},
     "output_type": "execute_result"
    }
   ],
   "source": [
    "tf.config.list_physical_devices('GPU')"
   ]
  },
  {
   "cell_type": "code",
   "execution_count": 3,
   "id": "52d42d0c",
   "metadata": {},
   "outputs": [
    {
     "data": {
      "text/html": [
       "<div>\n",
       "<style scoped>\n",
       "    .dataframe tbody tr th:only-of-type {\n",
       "        vertical-align: middle;\n",
       "    }\n",
       "\n",
       "    .dataframe tbody tr th {\n",
       "        vertical-align: top;\n",
       "    }\n",
       "\n",
       "    .dataframe thead th {\n",
       "        text-align: right;\n",
       "    }\n",
       "</style>\n",
       "<table border=\"1\" class=\"dataframe\">\n",
       "  <thead>\n",
       "    <tr style=\"text-align: right;\">\n",
       "      <th></th>\n",
       "      <th>0</th>\n",
       "      <th>1</th>\n",
       "      <th>2</th>\n",
       "      <th>3</th>\n",
       "      <th>4</th>\n",
       "      <th>5</th>\n",
       "      <th>6</th>\n",
       "      <th>7</th>\n",
       "      <th>8</th>\n",
       "      <th>9</th>\n",
       "      <th>...</th>\n",
       "      <th>106</th>\n",
       "      <th>107</th>\n",
       "      <th>108</th>\n",
       "      <th>109</th>\n",
       "      <th>110</th>\n",
       "      <th>111</th>\n",
       "      <th>112</th>\n",
       "      <th>113</th>\n",
       "      <th>114</th>\n",
       "      <th>attack_type</th>\n",
       "    </tr>\n",
       "  </thead>\n",
       "  <tbody>\n",
       "    <tr>\n",
       "      <th>0</th>\n",
       "      <td>417.714960</td>\n",
       "      <td>1335.452606</td>\n",
       "      <td>1.938141e+05</td>\n",
       "      <td>667.488208</td>\n",
       "      <td>1331.938903</td>\n",
       "      <td>1.949521e+05</td>\n",
       "      <td>1969.769860</td>\n",
       "      <td>1330.105468</td>\n",
       "      <td>1.940176e+05</td>\n",
       "      <td>19663.031940</td>\n",
       "      <td>...</td>\n",
       "      <td>0.000000e+00</td>\n",
       "      <td>0.000000e+00</td>\n",
       "      <td>27805.88062</td>\n",
       "      <td>1341.246768</td>\n",
       "      <td>425.083221</td>\n",
       "      <td>1341.246768</td>\n",
       "      <td>180695.7452</td>\n",
       "      <td>0.000000e+00</td>\n",
       "      <td>0.000000e+00</td>\n",
       "      <td>1</td>\n",
       "    </tr>\n",
       "    <tr>\n",
       "      <th>1</th>\n",
       "      <td>1739.401138</td>\n",
       "      <td>60.000000</td>\n",
       "      <td>1.050000e-11</td>\n",
       "      <td>2584.562742</td>\n",
       "      <td>60.000000</td>\n",
       "      <td>1.910000e-11</td>\n",
       "      <td>4397.334584</td>\n",
       "      <td>60.000000</td>\n",
       "      <td>5.000000e-12</td>\n",
       "      <td>5906.524611</td>\n",
       "      <td>...</td>\n",
       "      <td>0.000000e+00</td>\n",
       "      <td>0.000000e+00</td>\n",
       "      <td>1.00000</td>\n",
       "      <td>60.000000</td>\n",
       "      <td>0.000000</td>\n",
       "      <td>60.000000</td>\n",
       "      <td>0.0000</td>\n",
       "      <td>0.000000e+00</td>\n",
       "      <td>0.000000e+00</td>\n",
       "      <td>3</td>\n",
       "    </tr>\n",
       "    <tr>\n",
       "      <th>2</th>\n",
       "      <td>173.047305</td>\n",
       "      <td>1302.870943</td>\n",
       "      <td>2.268208e+05</td>\n",
       "      <td>278.687048</td>\n",
       "      <td>1313.554507</td>\n",
       "      <td>2.144688e+05</td>\n",
       "      <td>833.474525</td>\n",
       "      <td>1329.047324</td>\n",
       "      <td>1.962289e+05</td>\n",
       "      <td>8420.744023</td>\n",
       "      <td>...</td>\n",
       "      <td>0.000000e+00</td>\n",
       "      <td>0.000000e+00</td>\n",
       "      <td>28049.91951</td>\n",
       "      <td>1340.319736</td>\n",
       "      <td>426.271681</td>\n",
       "      <td>1340.319736</td>\n",
       "      <td>181707.5461</td>\n",
       "      <td>0.000000e+00</td>\n",
       "      <td>0.000000e+00</td>\n",
       "      <td>2</td>\n",
       "    </tr>\n",
       "    <tr>\n",
       "      <th>3</th>\n",
       "      <td>156.103078</td>\n",
       "      <td>1294.312686</td>\n",
       "      <td>1.497100e+05</td>\n",
       "      <td>273.292871</td>\n",
       "      <td>1295.556677</td>\n",
       "      <td>1.462236e+05</td>\n",
       "      <td>860.074244</td>\n",
       "      <td>1296.533565</td>\n",
       "      <td>1.425767e+05</td>\n",
       "      <td>8712.709868</td>\n",
       "      <td>...</td>\n",
       "      <td>-2.040000e-19</td>\n",
       "      <td>-5.010000e-16</td>\n",
       "      <td>18419.99438</td>\n",
       "      <td>1335.941905</td>\n",
       "      <td>425.355788</td>\n",
       "      <td>1337.288590</td>\n",
       "      <td>180927.5466</td>\n",
       "      <td>-8.390000e-17</td>\n",
       "      <td>-2.070000e-13</td>\n",
       "      <td>0</td>\n",
       "    </tr>\n",
       "    <tr>\n",
       "      <th>4</th>\n",
       "      <td>828.000815</td>\n",
       "      <td>60.000000</td>\n",
       "      <td>2.270000e-12</td>\n",
       "      <td>1520.747006</td>\n",
       "      <td>60.000000</td>\n",
       "      <td>1.460000e-11</td>\n",
       "      <td>5562.935004</td>\n",
       "      <td>60.000000</td>\n",
       "      <td>3.320000e-11</td>\n",
       "      <td>19777.093450</td>\n",
       "      <td>...</td>\n",
       "      <td>0.000000e+00</td>\n",
       "      <td>0.000000e+00</td>\n",
       "      <td>1.00000</td>\n",
       "      <td>60.000000</td>\n",
       "      <td>0.000000</td>\n",
       "      <td>60.000000</td>\n",
       "      <td>0.0000</td>\n",
       "      <td>0.000000e+00</td>\n",
       "      <td>0.000000e+00</td>\n",
       "      <td>3</td>\n",
       "    </tr>\n",
       "  </tbody>\n",
       "</table>\n",
       "<p>5 rows × 116 columns</p>\n",
       "</div>"
      ],
      "text/plain": [
       "             0            1             2            3            4  \\\n",
       "0   417.714960  1335.452606  1.938141e+05   667.488208  1331.938903   \n",
       "1  1739.401138    60.000000  1.050000e-11  2584.562742    60.000000   \n",
       "2   173.047305  1302.870943  2.268208e+05   278.687048  1313.554507   \n",
       "3   156.103078  1294.312686  1.497100e+05   273.292871  1295.556677   \n",
       "4   828.000815    60.000000  2.270000e-12  1520.747006    60.000000   \n",
       "\n",
       "              5            6            7             8             9  ...  \\\n",
       "0  1.949521e+05  1969.769860  1330.105468  1.940176e+05  19663.031940  ...   \n",
       "1  1.910000e-11  4397.334584    60.000000  5.000000e-12   5906.524611  ...   \n",
       "2  2.144688e+05   833.474525  1329.047324  1.962289e+05   8420.744023  ...   \n",
       "3  1.462236e+05   860.074244  1296.533565  1.425767e+05   8712.709868  ...   \n",
       "4  1.460000e-11  5562.935004    60.000000  3.320000e-11  19777.093450  ...   \n",
       "\n",
       "            106           107          108          109         110  \\\n",
       "0  0.000000e+00  0.000000e+00  27805.88062  1341.246768  425.083221   \n",
       "1  0.000000e+00  0.000000e+00      1.00000    60.000000    0.000000   \n",
       "2  0.000000e+00  0.000000e+00  28049.91951  1340.319736  426.271681   \n",
       "3 -2.040000e-19 -5.010000e-16  18419.99438  1335.941905  425.355788   \n",
       "4  0.000000e+00  0.000000e+00      1.00000    60.000000    0.000000   \n",
       "\n",
       "           111          112           113           114  attack_type  \n",
       "0  1341.246768  180695.7452  0.000000e+00  0.000000e+00            1  \n",
       "1    60.000000       0.0000  0.000000e+00  0.000000e+00            3  \n",
       "2  1340.319736  181707.5461  0.000000e+00  0.000000e+00            2  \n",
       "3  1337.288590  180927.5466 -8.390000e-17 -2.070000e-13            0  \n",
       "4    60.000000       0.0000  0.000000e+00  0.000000e+00            3  \n",
       "\n",
       "[5 rows x 116 columns]"
      ]
     },
     "execution_count": 3,
     "metadata": {},
     "output_type": "execute_result"
    }
   ],
   "source": [
    "raw_df = pd.read_csv('./proj_2_mal_sample/mixed.csv')\n",
    "raw_df.head()"
   ]
  },
  {
   "cell_type": "code",
   "execution_count": 4,
   "id": "cb04bab5",
   "metadata": {},
   "outputs": [],
   "source": [
    "cleaned_df = raw_df.copy()"
   ]
  },
  {
   "cell_type": "code",
   "execution_count": 5,
   "id": "ee281762",
   "metadata": {},
   "outputs": [],
   "source": [
    "train_df, test_df = train_test_split(cleaned_df, test_size=0.2)\n",
    "train_df, val_df = train_test_split(train_df, test_size=0.2)"
   ]
  },
  {
   "cell_type": "code",
   "execution_count": 6,
   "id": "6423655e",
   "metadata": {},
   "outputs": [],
   "source": [
    "train_labels = np.array(train_df.pop('attack_type'))\n",
    "val_labels = np.array(val_df.pop('attack_type'))\n",
    "test_labels = np.array(test_df.pop('attack_type'))"
   ]
  },
  {
   "cell_type": "code",
   "execution_count": 7,
   "id": "64a9f90d",
   "metadata": {},
   "outputs": [],
   "source": [
    "train_features = np.array(train_df)\n",
    "val_features = np.array(val_df)\n",
    "test_features = np.array(test_df)"
   ]
  },
  {
   "cell_type": "code",
   "execution_count": 8,
   "id": "486e66ee",
   "metadata": {},
   "outputs": [],
   "source": [
    "scaler = StandardScaler()\n",
    "train_features = scaler.fit_transform(train_features)\n",
    "\n",
    "val_features = scaler.transform(val_features)\n",
    "test_features = scaler.transform(test_features)\n",
    "\n",
    "train_features = np.clip(train_features, -5, 5)\n",
    "val_features = np.clip(val_features, -5, 5)\n",
    "test_features = np.clip(test_features, -5, 5)"
   ]
  },
  {
   "cell_type": "code",
   "execution_count": null,
   "id": "47fa5452",
   "metadata": {},
   "outputs": [],
   "source": []
  },
  {
   "cell_type": "code",
   "execution_count": 9,
   "id": "5c989737",
   "metadata": {},
   "outputs": [],
   "source": [
    "METRICS = [\n",
    "    'accuracy'\n",
    "]"
   ]
  },
  {
   "cell_type": "code",
   "execution_count": 10,
   "id": "ef3b62a2",
   "metadata": {},
   "outputs": [],
   "source": [
    "def make_model(metrics=METRICS):\n",
    "        \n",
    "    model = tf.keras.Sequential([\n",
    "    layers.Dense(115, activation=tf.nn.relu, input_shape=(train_features.shape[-1],)),\n",
    "    tf.keras.layers.Dropout(0.2),\n",
    "    layers.Dense(115, activation=tf.nn.relu),\n",
    "    tf.keras.layers.Dropout(0.2),\n",
    "    layers.Dense(64, activation=tf.nn.relu),\n",
    "    tf.keras.layers.Dropout(0.2),\n",
    "    layers.Dense(64, activation=tf.nn.relu),\n",
    "    tf.keras.layers.Dropout(0.2),\n",
    "    layers.Dense(32, activation=tf.nn.relu),\n",
    "    tf.keras.layers.Dropout(0.2),\n",
    "    layers.Dense(32, activation=tf.nn.relu),\n",
    "    tf.keras.layers.Dropout(0.2),\n",
    "    layers.Dense(8, activation=tf.nn.softmax)\n",
    "    ])\n",
    "\n",
    "    model.compile(\n",
    "    optimizer=keras.optimizers.Adam(learning_rate=1e-3),\n",
    "    loss = tf.keras.losses.SparseCategoricalCrossentropy(),\n",
    "    metrics=metrics)\n",
    "\n",
    "    return model"
   ]
  },
  {
   "cell_type": "code",
   "execution_count": null,
   "id": "15b23f0c",
   "metadata": {},
   "outputs": [],
   "source": []
  },
  {
   "cell_type": "code",
   "execution_count": null,
   "id": "2dff6c9a",
   "metadata": {},
   "outputs": [],
   "source": []
  },
  {
   "cell_type": "code",
   "execution_count": null,
   "id": "d3cccb21",
   "metadata": {},
   "outputs": [],
   "source": []
  },
  {
   "cell_type": "code",
   "execution_count": 11,
   "id": "2cbbfde1",
   "metadata": {},
   "outputs": [],
   "source": [
    "EPOCHS = 200\n",
    "BATCH_SIZE = 8192\n",
    "\n",
    "checkpoint_filepath = './checkpoints'\n",
    "\n",
    "model_checkpoint_callback = tf.keras.callbacks.ModelCheckpoint(\n",
    "    filepath=checkpoint_filepath,\n",
    "    save_weights_only=True,\n",
    "    monitor='val_accuracy',\n",
    "    mode='max',\n",
    "    save_best_only=True)\n",
    "early_stopping = tf.keras.callbacks.EarlyStopping(\n",
    "    monitor='val_accuracy', \n",
    "    verbose=1,\n",
    "    patience=20,\n",
    "    mode='max',\n",
    "    restore_best_weights=True)"
   ]
  },
  {
   "cell_type": "code",
   "execution_count": null,
   "id": "28825381",
   "metadata": {},
   "outputs": [],
   "source": []
  },
  {
   "cell_type": "code",
   "execution_count": 12,
   "id": "f22f7510",
   "metadata": {},
   "outputs": [],
   "source": [
    "model = make_model()\n"
   ]
  },
  {
   "cell_type": "code",
   "execution_count": 13,
   "id": "5a0a3ad0",
   "metadata": {},
   "outputs": [
    {
     "name": "stdout",
     "output_type": "stream",
     "text": [
      "Model: \"sequential\"\n",
      "_________________________________________________________________\n",
      " Layer (type)                Output Shape              Param #   \n",
      "=================================================================\n",
      " dense (Dense)               (None, 115)               13340     \n",
      "                                                                 \n",
      " dropout (Dropout)           (None, 115)               0         \n",
      "                                                                 \n",
      " dense_1 (Dense)             (None, 115)               13340     \n",
      "                                                                 \n",
      " dropout_1 (Dropout)         (None, 115)               0         \n",
      "                                                                 \n",
      " dense_2 (Dense)             (None, 64)                7424      \n",
      "                                                                 \n",
      " dropout_2 (Dropout)         (None, 64)                0         \n",
      "                                                                 \n",
      " dense_3 (Dense)             (None, 64)                4160      \n",
      "                                                                 \n",
      " dropout_3 (Dropout)         (None, 64)                0         \n",
      "                                                                 \n",
      " dense_4 (Dense)             (None, 32)                2080      \n",
      "                                                                 \n",
      " dropout_4 (Dropout)         (None, 32)                0         \n",
      "                                                                 \n",
      " dense_5 (Dense)             (None, 32)                1056      \n",
      "                                                                 \n",
      " dropout_5 (Dropout)         (None, 32)                0         \n",
      "                                                                 \n",
      " dense_6 (Dense)             (None, 8)                 264       \n",
      "                                                                 \n",
      "=================================================================\n",
      "Total params: 41,664\n",
      "Trainable params: 41,664\n",
      "Non-trainable params: 0\n",
      "_________________________________________________________________\n"
     ]
    }
   ],
   "source": [
    "model.summary()"
   ]
  },
  {
   "cell_type": "code",
   "execution_count": 14,
   "id": "27ceb087",
   "metadata": {},
   "outputs": [
    {
     "name": "stdout",
     "output_type": "stream",
     "text": [
      "Epoch 1/200\n",
      "480/480 [==============================] - 4s 5ms/step - loss: 0.9487 - accuracy: 0.5962 - val_loss: 0.3869 - val_accuracy: 0.9089\n",
      "Epoch 2/200\n",
      "480/480 [==============================] - 2s 5ms/step - loss: 0.3741 - accuracy: 0.8545 - val_loss: 0.1437 - val_accuracy: 0.9568\n",
      "Epoch 3/200\n",
      "480/480 [==============================] - 3s 5ms/step - loss: 0.2327 - accuracy: 0.9212 - val_loss: 0.0863 - val_accuracy: 0.9747\n",
      "Epoch 4/200\n",
      "480/480 [==============================] - 3s 5ms/step - loss: 0.1772 - accuracy: 0.9443 - val_loss: 0.0772 - val_accuracy: 0.9698\n",
      "Epoch 5/200\n",
      "480/480 [==============================] - 3s 5ms/step - loss: 0.1376 - accuracy: 0.9557 - val_loss: 0.0905 - val_accuracy: 0.9682\n",
      "Epoch 6/200\n",
      "480/480 [==============================] - 3s 6ms/step - loss: 0.1201 - accuracy: 0.9633 - val_loss: 0.0513 - val_accuracy: 0.9867\n",
      "Epoch 7/200\n",
      "480/480 [==============================] - 3s 6ms/step - loss: 0.1237 - accuracy: 0.9641 - val_loss: 0.0576 - val_accuracy: 0.9862\n",
      "Epoch 8/200\n",
      "480/480 [==============================] - 3s 6ms/step - loss: 0.0985 - accuracy: 0.9712 - val_loss: 0.0485 - val_accuracy: 0.9812\n",
      "Epoch 9/200\n",
      "480/480 [==============================] - 2s 5ms/step - loss: 0.0905 - accuracy: 0.9724 - val_loss: 0.0469 - val_accuracy: 0.9846\n",
      "Epoch 10/200\n",
      "480/480 [==============================] - 2s 5ms/step - loss: 0.1170 - accuracy: 0.9676 - val_loss: 0.0411 - val_accuracy: 0.9883\n",
      "Epoch 11/200\n",
      "480/480 [==============================] - 2s 5ms/step - loss: 0.0773 - accuracy: 0.9766 - val_loss: 0.0293 - val_accuracy: 0.9937\n",
      "Epoch 12/200\n",
      "480/480 [==============================] - 3s 5ms/step - loss: 0.0764 - accuracy: 0.9764 - val_loss: 0.0393 - val_accuracy: 0.9865\n",
      "Epoch 13/200\n",
      "480/480 [==============================] - 2s 5ms/step - loss: 0.0757 - accuracy: 0.9789 - val_loss: 0.0286 - val_accuracy: 0.9927\n",
      "Epoch 14/200\n",
      "480/480 [==============================] - 3s 5ms/step - loss: 0.0760 - accuracy: 0.9775 - val_loss: 0.0327 - val_accuracy: 0.9924\n",
      "Epoch 15/200\n",
      "480/480 [==============================] - 3s 6ms/step - loss: 0.0777 - accuracy: 0.9774 - val_loss: 0.0375 - val_accuracy: 0.9940\n",
      "Epoch 16/200\n",
      "480/480 [==============================] - 3s 6ms/step - loss: 0.0661 - accuracy: 0.9788 - val_loss: 0.0253 - val_accuracy: 0.9935\n",
      "Epoch 17/200\n",
      "480/480 [==============================] - 2s 5ms/step - loss: 0.0570 - accuracy: 0.9828 - val_loss: 0.0414 - val_accuracy: 0.9852\n",
      "Epoch 18/200\n",
      "480/480 [==============================] - 3s 5ms/step - loss: 0.0637 - accuracy: 0.9830 - val_loss: 0.0336 - val_accuracy: 0.9867\n",
      "Epoch 19/200\n",
      "480/480 [==============================] - 3s 6ms/step - loss: 0.0591 - accuracy: 0.9842 - val_loss: 0.0610 - val_accuracy: 0.9734\n",
      "Epoch 20/200\n",
      "480/480 [==============================] - 3s 6ms/step - loss: 0.0822 - accuracy: 0.9755 - val_loss: 0.0358 - val_accuracy: 0.9880\n",
      "Epoch 21/200\n",
      "480/480 [==============================] - 3s 6ms/step - loss: 0.0687 - accuracy: 0.9790 - val_loss: 0.0327 - val_accuracy: 0.9935\n",
      "Epoch 22/200\n",
      "480/480 [==============================] - 3s 6ms/step - loss: 0.0637 - accuracy: 0.9805 - val_loss: 0.0314 - val_accuracy: 0.9940\n",
      "Epoch 23/200\n",
      "480/480 [==============================] - 3s 6ms/step - loss: 0.0661 - accuracy: 0.9823 - val_loss: 0.0246 - val_accuracy: 0.9943\n",
      "Epoch 24/200\n",
      "480/480 [==============================] - 3s 6ms/step - loss: 0.0613 - accuracy: 0.9821 - val_loss: 0.0325 - val_accuracy: 0.9935\n",
      "Epoch 25/200\n",
      "480/480 [==============================] - 3s 6ms/step - loss: 0.0666 - accuracy: 0.9839 - val_loss: 0.0340 - val_accuracy: 0.9930\n",
      "Epoch 26/200\n",
      "480/480 [==============================] - 3s 6ms/step - loss: 0.0544 - accuracy: 0.9839 - val_loss: 0.0312 - val_accuracy: 0.9906\n",
      "Epoch 27/200\n",
      "480/480 [==============================] - 3s 5ms/step - loss: 0.0427 - accuracy: 0.9869 - val_loss: 0.0407 - val_accuracy: 0.9909\n",
      "Epoch 28/200\n",
      "480/480 [==============================] - 3s 5ms/step - loss: 0.0502 - accuracy: 0.9854 - val_loss: 0.0445 - val_accuracy: 0.9823\n",
      "Epoch 29/200\n",
      "480/480 [==============================] - 3s 5ms/step - loss: 0.0515 - accuracy: 0.9844 - val_loss: 0.0375 - val_accuracy: 0.9880\n",
      "Epoch 30/200\n",
      "480/480 [==============================] - 3s 6ms/step - loss: 0.0457 - accuracy: 0.9866 - val_loss: 0.0172 - val_accuracy: 0.9953\n",
      "Epoch 31/200\n",
      "480/480 [==============================] - 3s 5ms/step - loss: 0.0451 - accuracy: 0.9867 - val_loss: 0.0241 - val_accuracy: 0.9922\n",
      "Epoch 32/200\n",
      "480/480 [==============================] - 2s 5ms/step - loss: 0.0433 - accuracy: 0.9859 - val_loss: 0.0268 - val_accuracy: 0.9940\n",
      "Epoch 33/200\n",
      "480/480 [==============================] - 3s 6ms/step - loss: 0.0465 - accuracy: 0.9874 - val_loss: 0.0242 - val_accuracy: 0.9982\n",
      "Epoch 34/200\n",
      "480/480 [==============================] - 3s 6ms/step - loss: 0.0444 - accuracy: 0.9881 - val_loss: 0.0256 - val_accuracy: 0.9961\n",
      "Epoch 35/200\n",
      "480/480 [==============================] - 2s 5ms/step - loss: 0.0547 - accuracy: 0.9854 - val_loss: 0.0243 - val_accuracy: 0.9943\n",
      "Epoch 36/200\n",
      "480/480 [==============================] - 3s 6ms/step - loss: 0.0377 - accuracy: 0.9874 - val_loss: 0.0302 - val_accuracy: 0.9935\n",
      "Epoch 37/200\n",
      "480/480 [==============================] - 3s 6ms/step - loss: 0.0509 - accuracy: 0.9842 - val_loss: 0.0274 - val_accuracy: 0.9937\n",
      "Epoch 38/200\n",
      "480/480 [==============================] - 3s 6ms/step - loss: 0.0441 - accuracy: 0.9877 - val_loss: 0.0286 - val_accuracy: 0.9948\n",
      "Epoch 39/200\n",
      "480/480 [==============================] - 3s 6ms/step - loss: 0.0479 - accuracy: 0.9862 - val_loss: 0.0326 - val_accuracy: 0.9922\n",
      "Epoch 40/200\n",
      "480/480 [==============================] - 3s 6ms/step - loss: 0.0390 - accuracy: 0.9881 - val_loss: 0.0217 - val_accuracy: 0.9956\n",
      "Epoch 41/200\n",
      "480/480 [==============================] - 3s 6ms/step - loss: 0.0511 - accuracy: 0.9864 - val_loss: 0.0188 - val_accuracy: 0.9940\n",
      "Epoch 42/200\n",
      "480/480 [==============================] - 3s 5ms/step - loss: 0.0435 - accuracy: 0.9869 - val_loss: 0.0322 - val_accuracy: 0.9930\n",
      "Epoch 43/200\n",
      "480/480 [==============================] - 3s 6ms/step - loss: 0.0455 - accuracy: 0.9870 - val_loss: 0.0295 - val_accuracy: 0.9932\n",
      "Epoch 44/200\n",
      "480/480 [==============================] - 3s 6ms/step - loss: 0.0400 - accuracy: 0.9906 - val_loss: 0.0320 - val_accuracy: 0.9919\n",
      "Epoch 45/200\n",
      "480/480 [==============================] - 3s 6ms/step - loss: 0.0439 - accuracy: 0.9850 - val_loss: 0.0334 - val_accuracy: 0.9893\n",
      "Epoch 46/200\n",
      "480/480 [==============================] - 3s 6ms/step - loss: 0.0385 - accuracy: 0.9875 - val_loss: 0.0224 - val_accuracy: 0.9956\n",
      "Epoch 47/200\n",
      "480/480 [==============================] - 3s 6ms/step - loss: 0.0369 - accuracy: 0.9892 - val_loss: 0.0418 - val_accuracy: 0.9909\n",
      "Epoch 48/200\n",
      "480/480 [==============================] - 3s 6ms/step - loss: 0.0416 - accuracy: 0.9883 - val_loss: 0.0263 - val_accuracy: 0.9943\n",
      "Epoch 49/200\n",
      "480/480 [==============================] - 3s 5ms/step - loss: 0.0753 - accuracy: 0.9844 - val_loss: 0.0367 - val_accuracy: 0.9953\n",
      "Epoch 50/200\n",
      "480/480 [==============================] - 3s 6ms/step - loss: 0.0462 - accuracy: 0.9879 - val_loss: 0.0314 - val_accuracy: 0.9888\n",
      "Epoch 51/200\n",
      "480/480 [==============================] - 3s 6ms/step - loss: 0.0378 - accuracy: 0.9893 - val_loss: 0.0185 - val_accuracy: 0.9969\n",
      "Epoch 52/200\n",
      "480/480 [==============================] - 3s 5ms/step - loss: 0.0367 - accuracy: 0.9884 - val_loss: 0.0198 - val_accuracy: 0.9956\n",
      "Epoch 53/200\n",
      "472/480 [============================>.] - ETA: 0s - loss: 0.0376 - accuracy: 0.9877Restoring model weights from the end of the best epoch: 33.\n",
      "480/480 [==============================] - 3s 6ms/step - loss: 0.0374 - accuracy: 0.9877 - val_loss: 0.0192 - val_accuracy: 0.9966\n",
      "Epoch 53: early stopping\n"
     ]
    }
   ],
   "source": [
    "baseline_history = model.fit(\n",
    "    train_features,\n",
    "    train_labels,\n",
    "    batch_size=BATCH_SIZE,\n",
    "    epochs=EPOCHS,\n",
    "    callbacks=[model_checkpoint_callback, early_stopping],\n",
    "    validation_data=(val_features, val_labels))"
   ]
  },
  {
   "cell_type": "code",
   "execution_count": 15,
   "id": "21def2bf",
   "metadata": {},
   "outputs": [],
   "source": [
    "def plot_metrics(history):\n",
    "  metrics = ['loss', 'accuracy']\n",
    "  for n, metric in enumerate(metrics):\n",
    "    name = metric.replace(\"_\",\" \").capitalize()\n",
    "    plt.subplot(2,2,n+1)\n",
    "    plt.plot(history.epoch, history.history[metric], label='Train')\n",
    "    plt.plot(history.epoch, history.history['val_'+metric],\n",
    "              linestyle=\"--\", label='Val')\n",
    "    plt.xlabel('Epoch')\n",
    "    plt.ylabel(name)\n",
    "    if metric == 'loss':\n",
    "      plt.ylim([0, plt.ylim()[1]])\n",
    "    else:\n",
    "      plt.ylim([0,1])\n",
    "\n",
    "    plt.legend()"
   ]
  },
  {
   "cell_type": "code",
   "execution_count": 16,
   "id": "4f0c0082",
   "metadata": {},
   "outputs": [
    {
     "data": {
      "image/png": "[encoded data removed]",
      "text/plain": [
       "<Figure size 640x480 with 2 Axes>"
      ]
     },
     "metadata": {},
     "output_type": "display_data"
    }
   ],
   "source": [
    "plot_metrics(baseline_history)"
   ]
  },
  {
   "cell_type": "code",
   "execution_count": 17,
   "id": "0b87dbf4",
   "metadata": {},
   "outputs": [
    {
     "data": {
      "text/plain": [
       "<tensorflow.python.checkpoint.checkpoint.CheckpointLoadStatus at 0x283f875a890>"
      ]
     },
     "execution_count": 17,
     "metadata": {},
     "output_type": "execute_result"
    }
   ],
   "source": [
    "model.load_weights(checkpoint_filepath)"
   ]
  },
  {
   "cell_type": "code",
   "execution_count": null,
   "id": "b745f02e",
   "metadata": {},
   "outputs": [],
   "source": []
  },
  {
   "cell_type": "code",
   "execution_count": 18,
   "id": "049b87c4",
   "metadata": {},
   "outputs": [
    {
     "name": "stdout",
     "output_type": "stream",
     "text": [
      "480/480 [==============================] - 1s 2ms/step\n",
      "150/150 [==============================] - 0s 1ms/step\n"
     ]
    }
   ],
   "source": [
    "train_predictions_baseline = model.predict(train_features, batch_size=BATCH_SIZE)\n",
    "test_predictions_baseline = model.predict(test_features, batch_size=BATCH_SIZE)"
   ]
  },
  {
   "cell_type": "code",
   "execution_count": null,
   "id": "cd581c4e",
   "metadata": {},
   "outputs": [],
   "source": []
  },
  {
   "cell_type": "code",
   "execution_count": 20,
   "id": "1001e0c4",
   "metadata": {},
   "outputs": [],
   "source": [
    "def plot_cm(labels, predictions):\n",
    "  cm = confusion_matrix(labels, predictions, normalize = 'true')\n",
    "  plt.figure(figsize=(5,5))\n",
    "  sns.heatmap(cm, annot=True, fmt=\".2f\")\n",
    "  plt.title('Confusion matrix')\n",
    "  plt.ylabel('Actual label')\n",
    "  plt.xlabel('Predicted label')\n"
   ]
  },
  {
   "cell_type": "code",
   "execution_count": 21,
   "id": "34cda917",
   "metadata": {},
   "outputs": [
    {
     "name": "stdout",
     "output_type": "stream",
     "text": [
      "150/150 - 0s - loss: 0.0273 - accuracy: 0.9958 - 272ms/epoch - 2ms/step\n"
     ]
    }
   ],
   "source": [
    "baseline_results = model.evaluate(test_features, test_labels,\n",
    "                                  batch_size=BATCH_SIZE, \n",
    "                                  verbose=2)"
   ]
  },
  {
   "cell_type": "code",
   "execution_count": 23,
   "id": "63e7d890",
   "metadata": {},
   "outputs": [
    {
     "data": {
      "text/plain": [
       "array([3, 1, 5, ..., 4, 7, 6], dtype=int64)"
      ]
     },
     "execution_count": 23,
     "metadata": {},
     "output_type": "execute_result"
    }
   ],
   "source": [
    "test_labels"
   ]
  },
  {
   "cell_type": "code",
   "execution_count": 24,
   "id": "73a92682",
   "metadata": {},
   "outputs": [],
   "source": [
    "test_predictions_max = np.argmax(test_predictions_baseline, axis=1)"
   ]
  },
  {
   "cell_type": "code",
   "execution_count": null,
   "id": "e498bdfb",
   "metadata": {},
   "outputs": [],
   "source": []
  },
  {
   "cell_type": "code",
   "execution_count": null,
   "id": "4a586220",
   "metadata": {},
   "outputs": [],
   "source": []
  },
  {
   "cell_type": "code",
   "execution_count": 25,
   "id": "63f88330",
   "metadata": {},
   "outputs": [
    {
     "name": "stdout",
     "output_type": "stream",
     "text": [
      "              precision    recall  f1-score   support\n",
      "\n",
      "           0       1.00      0.98      0.99       594\n",
      "           1       0.98      1.00      0.99       613\n",
      "           2       1.00      1.00      1.00       574\n",
      "           3       1.00      1.00      1.00       619\n",
      "           4       1.00      1.00      1.00       588\n",
      "           5       1.00      0.99      1.00       603\n",
      "           6       1.00      1.00      1.00       620\n",
      "           7       1.00      1.00      1.00       589\n",
      "\n",
      "    accuracy                           1.00      4800\n",
      "   macro avg       1.00      1.00      1.00      4800\n",
      "weighted avg       1.00      1.00      1.00      4800\n",
      "\n"
     ]
    }
   ],
   "source": [
    "print(classification_report(test_labels, test_predictions_max))"
   ]
  },
  {
   "cell_type": "code",
   "execution_count": null,
   "id": "8d1e2cff",
   "metadata": {},
   "outputs": [],
   "source": []
  },
  {
   "cell_type": "code",
   "execution_count": 26,
   "id": "43f83f24",
   "metadata": {},
   "outputs": [
    {
     "data": {
      "text/plain": [
       "array([[581,  13,   0,   0,   0,   0,   0,   0],\n",
       "       [  2, 611,   0,   0,   0,   0,   0,   0],\n",
       "       [  0,   0, 573,   0,   0,   1,   0,   0],\n",
       "       [  0,   0,   0, 619,   0,   0,   0,   0],\n",
       "       [  0,   0,   0,   0, 588,   0,   0,   0],\n",
       "       [  0,   0,   1,   0,   0, 599,   3,   0],\n",
       "       [  0,   0,   0,   0,   0,   0, 620,   0],\n",
       "       [  0,   0,   0,   0,   0,   0,   0, 589]], dtype=int64)"
      ]
     },
     "execution_count": 26,
     "metadata": {},
     "output_type": "execute_result"
    }
   ],
   "source": [
    "confusion_matrix(test_labels, test_predictions_max)"
   ]
  },
  {
   "cell_type": "code",
   "execution_count": null,
   "id": "d0deab0e",
   "metadata": {},
   "outputs": [],
   "source": []
  },
  {
   "cell_type": "code",
   "execution_count": 27,
   "id": "f88560a7",
   "metadata": {},
   "outputs": [
    {
     "data": {
      "image/png": "[encoded data removed]",
      "text/plain": [
       "<Figure size 500x500 with 2 Axes>"
      ]
     },
     "metadata": {},
     "output_type": "display_data"
    }
   ],
   "source": [
    "plot_cm(test_labels, test_predictions_max)"
   ]
  },
  {
   "cell_type": "code",
   "execution_count": null,
   "id": "38de089b",
   "metadata": {},
   "outputs": [],
   "source": []
  }
 ],
 "metadata": {
  "kernelspec": {
   "display_name": "Python 3 (ipykernel)",
   "language": "python",
   "name": "python3"
  },
  "language_info": {
   "codemirror_mode": {
    "name": "ipython",
    "version": 3
   },
   "file_extension": ".py",
   "mimetype": "text/x-python",
   "name": "python",
   "nbconvert_exporter": "python",
   "pygments_lexer": "ipython3",
   "version": "3.10.8"
  }
 },
 "nbformat": 4,
 "nbformat_minor": 5
}
